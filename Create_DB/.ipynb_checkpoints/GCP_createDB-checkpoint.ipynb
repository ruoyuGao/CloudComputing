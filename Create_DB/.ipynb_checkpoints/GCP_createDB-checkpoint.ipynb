{
 "cells": [
  {
   "cell_type": "code",
   "execution_count": 1,
   "id": "334142ee",
   "metadata": {},
   "outputs": [],
   "source": [
    "from gcloud import storage\n",
    "from gcloud import datastore\n",
    "import csv\n",
    "import os"
   ]
  },
  {
   "cell_type": "code",
   "execution_count": 2,
   "id": "ab76b376",
   "metadata": {},
   "outputs": [],
   "source": [
    "os.environ[\"GOOGLE_APPLICATION_CREDENTIALS\"] = 'your json path'"
   ]
  },
  {
   "cell_type": "code",
   "execution_count": 3,
   "id": "6a18c01e",
   "metadata": {},
   "outputs": [],
   "source": [
    "# storage_client = storage.Client(project='valued-vault-261108').from_service_account_json(\n",
    "#        '/Users/nanohana/Downloads/valued-vault-261108-761f1170d915.json')\n",
    "storage_client= storage.Client()"
   ]
  },
  {
   "cell_type": "code",
   "execution_count": 4,
   "id": "91887691",
   "metadata": {},
   "outputs": [
    {
     "name": "stdout",
     "output_type": "stream",
     "text": [
      "[<Bucket: testrg4232>]\n"
     ]
    }
   ],
   "source": [
    "bucket = list(storage_client.list_buckets())\n",
    "print(bucket)"
   ]
  },
  {
   "cell_type": "code",
   "execution_count": 7,
   "id": "030753d4",
   "metadata": {},
   "outputs": [
    {
     "name": "stdout",
     "output_type": "stream",
     "text": [
      "['experiment1', ' id1', '2020-06-28T00:11:53.155Z', 'a.jpg', ' 12/1/2016', '\" \"\"here is a view of what is to be made\"\"\"', 'https://tutorialjcf.blob.core.windows.net/datacont/a.jpg']\n",
      "['experiment1', ' id2', '2020-06-28T00:11:53.293Z', 'b.jpg', ' 12/3/2016', '\" \"\"map rededuce picture\"\"\"', 'https://tutorialjcf.blob.core.windows.net/datacont/b.jpg']\n",
      "['experiment1', ' id5', '2020-06-28T00:11:53.631Z', 'e.jpg', ' 12/6/2016', '\" \"\"bio samples\"\"\"', 'https://tutorialjcf.blob.core.windows.net/datacont/e.jpg']\n",
      "['experiment2', ' id3', '2020-06-28T00:11:53.427Z', 'c.jpg', ' 12/4/2016', '\" \"\"sample notebook\"\"\"', 'https://tutorialjcf.blob.core.windows.net/datacont/c.jpg']\n",
      "['experiment3', ' id4', '2020-06-28T00:11:53.511Z', 'd.jpg', ' 12/5/2016', '\" \"\"workers\"\"\"', 'https://tutorialjcf.blob.core.windows.net/datacont/d.jpg']\n"
     ]
    }
   ],
   "source": [
    "clientds= datastore.Client()\n",
    "bucket = storage_client.bucket('testrg4232')\n",
    "key = clientds.key('book-table')\n",
    "with open('/Users/nanohana/Downloads/Cloud_computing/assignment2/datadir/experiments.csv') as csvfile:\n",
    "    csvf = csv.reader(csvfile, delimiter=',', quotechar='|')\n",
    "    next(csvf)\n",
    "    for item in csvf:\n",
    "        print(item)\n",
    "        blob = bucket.blob(item[3])\n",
    "        data = open('/Users/nanohana/Downloads/Cloud_computing/assignment2/datadir/'+item[3],'rb')\n",
    "        blob.upload_from_file(data)\n",
    "        blob.make_public()\n",
    "        url = \"https://storage.googleapis.com/testrg4232/\"+item[3]\n",
    "        entity = datastore.Entity(key=key)\n",
    "        entity['experiment-name']=item[0]\n",
    "        entity['experiment-id']= item[1]\n",
    "        entity['date']=item[4]\n",
    "        entity['description']= item[5]\n",
    "        entity['url']= url\n",
    "        clientds.put(entity)"
   ]
  },
  {
   "cell_type": "code",
   "execution_count": null,
   "id": "ebd63a79",
   "metadata": {},
   "outputs": [],
   "source": []
  }
 ],
 "metadata": {
  "kernelspec": {
   "display_name": "Python 3 (ipykernel)",
   "language": "python",
   "name": "python3"
  },
  "language_info": {
   "codemirror_mode": {
    "name": "ipython",
    "version": 3
   },
   "file_extension": ".py",
   "mimetype": "text/x-python",
   "name": "python",
   "nbconvert_exporter": "python",
   "pygments_lexer": "ipython3",
   "version": "3.9.7"
  }
 },
 "nbformat": 4,
 "nbformat_minor": 5
}
