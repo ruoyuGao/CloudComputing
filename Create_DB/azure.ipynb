{
 "cells": [
  {
   "cell_type": "markdown",
   "metadata": {},
   "source": [
    "# Azure Storage Service Demo\n",
    "This is intended to be run on the Python 2 kernel.   \n",
    "If you have not installed azure and azure-storage un-comment the pip below and run it."
   ]
  },
  {
   "cell_type": "code",
   "execution_count": 1,
   "metadata": {},
   "outputs": [
    {
     "name": "stdout",
     "output_type": "stream",
     "text": [
      "Collecting azure-storage==0.32.0\n",
      "  Downloading azure_storage-0.32.0-py3-none-any.whl (160 kB)\n",
      "\u001b[K     |████████████████████████████████| 160 kB 8.2 MB/s eta 0:00:01\n",
      "\u001b[?25hRequirement already satisfied: requests in /Users/nanohana/opt/anaconda3/lib/python3.9/site-packages (from azure-storage==0.32.0) (2.26.0)\n",
      "Requirement already satisfied: python-dateutil in /Users/nanohana/opt/anaconda3/lib/python3.9/site-packages (from azure-storage==0.32.0) (2.8.2)\n",
      "Collecting azure-common\n",
      "  Downloading azure_common-1.1.28-py2.py3-none-any.whl (14 kB)\n",
      "Collecting azure-nspkg\n",
      "  Downloading azure_nspkg-3.0.2-py3-none-any.whl (1.5 kB)\n",
      "Requirement already satisfied: six>=1.5 in /Users/nanohana/opt/anaconda3/lib/python3.9/site-packages (from python-dateutil->azure-storage==0.32.0) (1.16.0)\n",
      "Requirement already satisfied: certifi>=2017.4.17 in /Users/nanohana/opt/anaconda3/lib/python3.9/site-packages (from requests->azure-storage==0.32.0) (2021.10.8)\n",
      "Requirement already satisfied: urllib3<1.27,>=1.21.1 in /Users/nanohana/opt/anaconda3/lib/python3.9/site-packages (from requests->azure-storage==0.32.0) (1.26.7)\n",
      "Requirement already satisfied: idna<4,>=2.5 in /Users/nanohana/opt/anaconda3/lib/python3.9/site-packages (from requests->azure-storage==0.32.0) (3.2)\n",
      "Requirement already satisfied: charset-normalizer~=2.0.0 in /Users/nanohana/opt/anaconda3/lib/python3.9/site-packages (from requests->azure-storage==0.32.0) (2.0.4)\n",
      "Installing collected packages: azure-nspkg, azure-common, azure-storage\n",
      "Successfully installed azure-common-1.1.28 azure-nspkg-3.0.2 azure-storage-0.32.0\n"
     ]
    }
   ],
   "source": [
    "!pip install --upgrade azure-storage==0.32.0"
   ]
  },
  {
   "cell_type": "code",
   "execution_count": 2,
   "metadata": {
    "scrolled": true
   },
   "outputs": [
    {
     "name": "stdout",
     "output_type": "stream",
     "text": [
      "hello atMon Feb 21 12:40:00 2022\n"
     ]
    }
   ],
   "source": [
    "import csv\n",
    "import sys\n",
    "import azure.storage\n",
    "from azure.storage.table import TableService, Entity\n",
    "from azure.storage.blob import BlockBlobService\n",
    "from azure.storage.blob import PublicAccess\n",
    "import time\n",
    "print(\"hello at\" + time.asctime(time.localtime(time.time())))"
   ]
  },
  {
   "cell_type": "markdown",
   "metadata": {},
   "source": [
    "follow the instructions in the book to create a storage account.   the one used here is \"tutorial\", but you will want to pick something else and replace that name everywhere below"
   ]
  },
  {
   "cell_type": "code",
   "execution_count": 4,
   "metadata": {},
   "outputs": [
    {
     "data": {
      "text/plain": [
       "True"
      ]
     },
     "execution_count": 4,
     "metadata": {},
     "output_type": "execute_result"
    }
   ],
   "source": [
    "account = 'aronlab2'\n",
    "block_blob_service = BlockBlobService(account_name=account,\n",
    "    account_key='tOwlO2VLZuuiOttJM8623uZVLjXsRtsmwX9L35tpi9aW8uOJ69movkuXWg86q0vXFV+KCl5edO0/+ASt3tqI1A==')\n",
    "block_blob_service.create_container('datacont', \n",
    "                                    public_access=PublicAccess.Container)"
   ]
  },
  {
   "cell_type": "code",
   "execution_count": 5,
   "metadata": {},
   "outputs": [],
   "source": [
    "table_service = TableService(account_name=account, \n",
    "                             account_key='tOwlO2VLZuuiOttJM8623uZVLjXsRtsmwX9L35tpi9aW8uOJ69movkuXWg86q0vXFV+KCl5edO0/+ASt3tqI1A==')"
   ]
  },
  {
   "cell_type": "code",
   "execution_count": 6,
   "metadata": {},
   "outputs": [
    {
     "name": "stdout",
     "output_type": "stream",
     "text": [
      "table created\n"
     ]
    }
   ],
   "source": [
    "if table_service.create_table('DataTable'):\n",
    "    print(\"table created\")\n",
    "else:\n",
    "    print(\"table already there\")"
   ]
  },
  {
   "cell_type": "markdown",
   "metadata": {},
   "source": [
    "Now you need a directory with a csv file.  For example\n",
    "\n",
    "'experiment1', '1', '3/15/2002', 'exp1', 'this is the comment'\n",
    "\n",
    "'experiment1', '2', '3/15/2002', 'exp2', 'this is the comment2'\n",
    "\n",
    "'experiment2', '3', '3/16/2002', 'exp3', 'this is the comment3'\n",
    "\n",
    "'experiment3', '4', '3/16/2002', 'exp4', 'this is the comment233'\n",
    "\n",
    "now you need a directory datafiles that has four blobs of any type.  call them exp1, exp2, exp3, exp4.  \n",
    "we have one ready for you if you are using the tutorial container. It is stored in /datadir.\n",
    "If you are running this somewhere else you will need to make your own.  \n",
    "let's see what is there."
   ]
  },
  {
   "cell_type": "code",
   "execution_count": 16,
   "metadata": {},
   "outputs": [
    {
     "name": "stdout",
     "output_type": "stream",
     "text": [
      "['experiment1', ' id1', '2020-06-28T00:11:53.155Z', 'a.jpg', ' 12/1/2016', '\" \"\"here is a view of what is to be made\"\"\"', 'https://tutorialjcf.blob.core.windows.net/datacont/a.jpg']\n",
      "['experiment1', ' id2', '2020-06-28T00:11:53.293Z', 'b.jpg', ' 12/3/2016', '\" \"\"map rededuce picture\"\"\"', 'https://tutorialjcf.blob.core.windows.net/datacont/b.jpg']\n",
      "['experiment1', ' id5', '2020-06-28T00:11:53.631Z', 'e.jpg', ' 12/6/2016', '\" \"\"bio samples\"\"\"', 'https://tutorialjcf.blob.core.windows.net/datacont/e.jpg']\n",
      "['experiment2', ' id3', '2020-06-28T00:11:53.427Z', 'c.jpg', ' 12/4/2016', '\" \"\"sample notebook\"\"\"', 'https://tutorialjcf.blob.core.windows.net/datacont/c.jpg']\n",
      "['experiment3', ' id4', '2020-06-28T00:11:53.511Z', 'd.jpg', ' 12/5/2016', '\" \"\"workers\"\"\"', 'https://tutorialjcf.blob.core.windows.net/datacont/d.jpg']\n"
     ]
    }
   ],
   "source": [
    " with open('/Users/nanohana/Downloads/Cloud_computing/assignment2/datadir/experiments.csv') as csvfile:\n",
    "    csvf = csv.reader(csvfile, delimiter=',', quotechar='|')\n",
    "    next(csvf)\n",
    "    for item in csvf:\n",
    "        print(item)"
   ]
  },
  {
   "cell_type": "markdown",
   "metadata": {},
   "source": [
    "the code below will upload the data blobs into the container \"datacont\", then create the url and upload the metadata into the table \"DataTable\"."
   ]
  },
  {
   "cell_type": "code",
   "execution_count": 17,
   "metadata": {},
   "outputs": [
    {
     "name": "stdout",
     "output_type": "stream",
     "text": [
      "['experiment1', ' id1', '2020-06-28T00:11:53.155Z', 'a.jpg', ' 12/1/2016', '\" \"\"here is a view of what is to be made\"\"\"', 'https://tutorialjcf.blob.core.windows.net/datacont/a.jpg']\n",
      "['experiment1', ' id2', '2020-06-28T00:11:53.293Z', 'b.jpg', ' 12/3/2016', '\" \"\"map rededuce picture\"\"\"', 'https://tutorialjcf.blob.core.windows.net/datacont/b.jpg']\n",
      "['experiment1', ' id5', '2020-06-28T00:11:53.631Z', 'e.jpg', ' 12/6/2016', '\" \"\"bio samples\"\"\"', 'https://tutorialjcf.blob.core.windows.net/datacont/e.jpg']\n",
      "['experiment2', ' id3', '2020-06-28T00:11:53.427Z', 'c.jpg', ' 12/4/2016', '\" \"\"sample notebook\"\"\"', 'https://tutorialjcf.blob.core.windows.net/datacont/c.jpg']\n",
      "['experiment3', ' id4', '2020-06-28T00:11:53.511Z', 'd.jpg', ' 12/5/2016', '\" \"\"workers\"\"\"', 'https://tutorialjcf.blob.core.windows.net/datacont/d.jpg']\n"
     ]
    }
   ],
   "source": [
    " with open('/Users/nanohana/Downloads/Cloud_computing/assignment2/datadir/experiments.csv') as csvfile:\n",
    "    csvf = csv.reader(csvfile, delimiter=',', quotechar='|')\n",
    "    next(csvf)\n",
    "    for item in csvf:\n",
    "        print(item)\n",
    "        block_blob_service.create_blob_from_path(\n",
    "            'datacont', item[3],\n",
    "            \"/Users/nanohana/Downloads/Cloud_computing/assignment2/datadir/\"+item[3]\n",
    "            )\n",
    "        url = \"https://\"+account+\".blob.core.windows.net/datacont/\"+item[3]\n",
    "        metadata_item = {'PartitionKey': item[0], 'RowKey': item[1], \n",
    "                 'description' : item[5], 'date' : item[4], 'url':url} \n",
    "        table_service.insert_entity('DataTable', metadata_item)\n",
    "        "
   ]
  },
  {
   "cell_type": "markdown",
   "metadata": {},
   "source": [
    "Next let's do a querry for experiment1 and project onto the urls.  it should print the urls created above"
   ]
  },
  {
   "cell_type": "code",
   "execution_count": 18,
   "metadata": {},
   "outputs": [
    {
     "name": "stdout",
     "output_type": "stream",
     "text": [
      "https://aronlab2.blob.core.windows.net/datacont/a.jpg\n",
      "https://aronlab2.blob.core.windows.net/datacont/b.jpg\n",
      "https://aronlab2.blob.core.windows.net/datacont/e.jpg\n"
     ]
    }
   ],
   "source": [
    "tasks = table_service.query_entities('DataTable', filter=\"PartitionKey eq 'experiment1'\", select='url')\n",
    "for task in tasks:\n",
    "    print(task.url)"
   ]
  },
  {
   "cell_type": "markdown",
   "metadata": {},
   "source": [
    "The output should look somethink like\n",
    "\n",
    "https://escistore.blob.core.windows.net/datacont/exp1\n",
    "\n",
    "https://escistore.blob.core.windows.net/datacont/exp2\n",
    "\n",
    "try clicking on the links in your output\n"
   ]
  },
  {
   "cell_type": "markdown",
   "metadata": {
    "collapsed": true
   },
   "source": [
    "Next download the \"azure storage explorer\" and look at you table.\n",
    "\n",
    "You will need to add the account with the key to the storage explore. "
   ]
  }
 ],
 "metadata": {
  "anaconda-cloud": {},
  "kernelspec": {
   "display_name": "Python 3 (ipykernel)",
   "language": "python",
   "name": "python3"
  },
  "language_info": {
   "codemirror_mode": {
    "name": "ipython",
    "version": 3
   },
   "file_extension": ".py",
   "mimetype": "text/x-python",
   "name": "python",
   "nbconvert_exporter": "python",
   "pygments_lexer": "ipython3",
   "version": "3.9.7"
  }
 },
 "nbformat": 4,
 "nbformat_minor": 1
}
